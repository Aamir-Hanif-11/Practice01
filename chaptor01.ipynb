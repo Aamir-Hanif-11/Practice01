{
 "cells": [
  {
   "cell_type": "code",
   "execution_count": 1,
   "id": "7a3923a6-419e-43d9-ae9a-694808200833",
   "metadata": {},
   "outputs": [
    {
     "name": "stdout",
     "output_type": "stream",
     "text": [
      "Pakistan\n"
     ]
    }
   ],
   "source": [
    "print(\"Pakistan\")"
   ]
  },
  {
   "cell_type": "code",
   "execution_count": 2,
   "id": "817217b7-231e-40c5-998a-60b6965a3c07",
   "metadata": {},
   "outputs": [
    {
     "ename": "SyntaxError",
     "evalue": "leading zeros in decimal integer literals are not permitted; use an 0o prefix for octal integers (2542156152.py, line 1)",
     "output_type": "error",
     "traceback": [
      "\u001b[1;36m  Cell \u001b[1;32mIn[2], line 1\u001b[1;36m\u001b[0m\n\u001b[1;33m    print(14+08+1947)\u001b[0m\n\u001b[1;37m             ^\u001b[0m\n\u001b[1;31mSyntaxError\u001b[0m\u001b[1;31m:\u001b[0m leading zeros in decimal integer literals are not permitted; use an 0o prefix for octal integers\n"
     ]
    }
   ],
   "source": [
    "print(14+08+1947)"
   ]
  },
  {
   "cell_type": "code",
   "execution_count": 3,
   "id": "29e3dc30-297e-4ee9-a698-4719ebb8bb9f",
   "metadata": {},
   "outputs": [
    {
     "name": "stdout",
     "output_type": "stream",
     "text": [
      "1969\n"
     ]
    }
   ],
   "source": [
    "print(14+8+1947)"
   ]
  },
  {
   "cell_type": "code",
   "execution_count": 4,
   "id": "b9265497-4c66-4c85-a3c5-9936dcdd049d",
   "metadata": {},
   "outputs": [
    {
     "name": "stdout",
     "output_type": "stream",
     "text": [
      "-45\n"
     ]
    }
   ],
   "source": [
    "print(10-55)"
   ]
  },
  {
   "cell_type": "code",
   "execution_count": 5,
   "id": "7b8ace15-8b7e-4de1-88c0-ec276fa5d317",
   "metadata": {},
   "outputs": [
    {
     "name": "stdout",
     "output_type": "stream",
     "text": [
      "45\n"
     ]
    }
   ],
   "source": [
    "print(55-10)"
   ]
  },
  {
   "cell_type": "code",
   "execution_count": null,
   "id": "01496077-eddd-414a-91fe-eb673f7ecc0c",
   "metadata": {},
   "outputs": [],
   "source": []
  }
 ],
 "metadata": {
  "kernelspec": {
   "display_name": "Python 3 (ipykernel)",
   "language": "python",
   "name": "python3"
  },
  "language_info": {
   "codemirror_mode": {
    "name": "ipython",
    "version": 3
   },
   "file_extension": ".py",
   "mimetype": "text/x-python",
   "name": "python",
   "nbconvert_exporter": "python",
   "pygments_lexer": "ipython3",
   "version": "3.11.7"
  }
 },
 "nbformat": 4,
 "nbformat_minor": 5
}
